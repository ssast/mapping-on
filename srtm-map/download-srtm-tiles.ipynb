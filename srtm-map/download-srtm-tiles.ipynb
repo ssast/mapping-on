{
 "cells": [
  {
   "cell_type": "code",
   "execution_count": 1,
   "id": "3941f4a5",
   "metadata": {},
   "outputs": [],
   "source": [
    "# Import required modules.\n",
    "from osgeo import ogr, osr\n",
    "from rtree.index import Index\n",
    "from requests.auth import HTTPBasicAuth\n",
    "import requests\n",
    "import os"
   ]
  },
  {
   "cell_type": "code",
   "execution_count": 2,
   "id": "629f8b63",
   "metadata": {},
   "outputs": [],
   "source": [
    "# Set script parameters, edit the USGS Earthdata username, password, and any file paths as needed.\n",
    "url_base = 'http://e4ftl01.cr.usgs.gov/MEASURES/SRTMGL1.003/2000.02.11/'\n",
    "srtm_grid_lyr = r'/home/jovyan/work/data/srtm/srtm30m_bounding_boxes.json'\n",
    "census_lyr = r'/home/jovyan/work/data/census/lpr_000b16a_e/lpr_000b16a_e.shp'\n",
    "out_dir = r'/home/jovyan/work/data/srtm'\n",
    "idx = Index()\n",
    "geoms = {}\n",
    "count = 0\n",
    "grid_cells = set()\n",
    "username = ''\n",
    "password = ''"
   ]
  },
  {
   "cell_type": "code",
   "execution_count": 3,
   "id": "2c6ab908",
   "metadata": {},
   "outputs": [],
   "source": [
    "# Open census layer and filter to Ontario.\n",
    "ds = ogr.Open(census_lyr)\n",
    "lyr = ds.GetLayer(0)\n",
    "lyr.SetAttributeFilter(\"PRNAME = 'Ontario'\")\n",
    "\n",
    "# Read feature geometries and transform to EPSG:4326 (wgs84).\n",
    "source_sr = lyr.GetSpatialRef()\n",
    "target_sr = osr.SpatialReference()\n",
    "target_sr.ImportFromEPSG(4326)\n",
    "target_sr.SetAxisMappingStrategy(osr.OAMS_TRADITIONAL_GIS_ORDER)\n",
    "transform = osr.CoordinateTransformation(source_sr, target_sr)\n",
    "for feat in lyr:\n",
    "    geom = feat.GetGeometryRef()\n",
    "    geom.Transform(transform)\n",
    "    \n",
    "    # Create a convex hull geometry (minimum bounding polygon) for later use.\n",
    "    convex_hull = geom.ConvexHull().Clone()\n",
    "    \n",
    "    # Iterate over individual polygons in multipolygon, and add bbox envelope to rtree spatial index.\n",
    "    for g in geom:\n",
    "        geoms[count] = g.Clone()\n",
    "        x_min, x_max, y_min, y_max = g.GetEnvelope()\n",
    "        idx.insert(count, (x_min, y_min, x_max, y_max))\n",
    "        count += 1\n",
    "lyr = None\n",
    "ds = None"
   ]
  },
  {
   "cell_type": "code",
   "execution_count": 4,
   "id": "b6579f28",
   "metadata": {},
   "outputs": [],
   "source": [
    "# Open SRTM grid layer and filter to convex hull.\n",
    "ds = ogr.Open(srtm_grid_lyr)\n",
    "lyr = ds.GetLayer(0)\n",
    "lyr.SetSpatialFilter(convex_hull)\n",
    "\n",
    "# Read filtered features and check for intersection with Ontario geometries and save file name if intersecting.\n",
    "for feat in lyr:\n",
    "    geom = feat.GetGeometryRef()\n",
    "    x_min, x_max, y_min, y_max = geom.GetEnvelope()\n",
    "    for fid in idx.intersection((x_min, y_min, x_max, y_max)):\n",
    "        if geom.Intersects(geoms[fid]):\n",
    "            grid_cells.add(feat.GetField('dataFile'))\n",
    "            break\n",
    "lyr = None\n",
    "ds = None"
   ]
  },
  {
   "cell_type": "code",
   "execution_count": 6,
   "id": "e0fe3a3b",
   "metadata": {},
   "outputs": [],
   "source": [
    "# Set up session for auth and redirect handling, and iterate over grid cells.\n",
    "with requests.Session() as session:\n",
    "    session.auth = (username, password)\n",
    "    for grid_cell in grid_cells:\n",
    "        url = url_base + grid_cell\n",
    "        out_file = os.path.join(out_dir, grid_cell)\n",
    "        \n",
    "        # Submit request for grid cell file if it has not already been downloaded.\n",
    "        if not os.path.exists(out_file):\n",
    "            req = session.request('get', url)\n",
    "            response = session.get(req.url, stream=True)\n",
    "            response.raise_for_status()\n",
    "\n",
    "            # Write response to file.\n",
    "            with open(out_file, 'wb') as output:\n",
    "                for chunk in response.iter_content(chunk_size=1024*1024):\n",
    "                    output.write(chunk)"
   ]
  }
 ],
 "metadata": {
  "kernelspec": {
   "display_name": "Python 3",
   "language": "python",
   "name": "python3"
  },
  "language_info": {
   "codemirror_mode": {
    "name": "ipython",
    "version": 3
   },
   "file_extension": ".py",
   "mimetype": "text/x-python",
   "name": "python",
   "nbconvert_exporter": "python",
   "pygments_lexer": "ipython3",
   "version": "3.9.2"
  }
 },
 "nbformat": 4,
 "nbformat_minor": 5
}
